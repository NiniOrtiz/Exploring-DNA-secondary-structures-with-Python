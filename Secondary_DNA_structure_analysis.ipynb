{
 "cells": [
  {
   "cell_type": "markdown",
   "metadata": {},
   "source": [
    " This is a free tutorial that you can use to explore the secondary structure of  the DNA sequence of\n",
    " any genome or partial-DNA sequence of your choice.At the time it will only work for UNIX machines and maybe OSX because the ViennaRNA package only works for those, if you have a Windows machine please proceed to use the Linux virtual machine. I hope this helps you out , if something gets broken please send me a message .\n"
   ]
  },
  {
   "cell_type": "markdown",
   "metadata": {},
   "source": [
    "First you will need to install some packages and dependencys for data visualisation and handling.\n",
    "For this example we will be using the complete genome sequence of the Human Herpes 1 type 17 virus with the ascencion number:NC_001806.2. The herpes 1 virus was chosen because it's genome consists of a  double-stranded linear DNA molecule. Other authors have reported that the herpes simplex viral genome does posses secondary DNA structures like G-quadruplexes. (Artusi,2016)\n",
    "\n",
    "Secondary DNA structures found in double-stranded DNA genomes can be correlated with deletions.Joana Damas has reported the relationship of Non-B DNA structures with the amount of deletions found in the mithocondrial DNA genome (It is also a double-stranded DNA molecule). These deletions are important because \n",
    "when a mitDNA gene becomes deleted, then the cell may not be able to synthesize  efficiently a protein complex that is essential for the oxidative phosphorilation . In the case of viral genomes, these secondary DNA structures could be related to translocation events, and may induce genomic instabilities within fragile sites found at the human genome.\n",
    "\n",
    "\n",
    "< >\n",
    "\n",
    "Now that all has been said, Lets have some fun!\n",
    "\n",
    "< >\n",
    "\n",
    "Disclaimer: I don't claim rights nor I am the creator of ViennaRNA or any of their packages and\n",
    "dependencies. The purpose of this python notebook is to facilitate the use of ViennaRNA for DNA secondary\n",
    "structure prediction at the level of the whole genome of any Biological system. \n",
    "Some lines of code were based in the available tutorials that you can Download from the ViennaRNArepository for the prediction of RNA secondary structures.\n",
    "\n",
    "Artusi, Sara, et al. \"Visualization of DNA G-quadruplexes in herpes simplex virus 1-infected cells.\" Nucleic acids research 44.21 (2016): 10343-10353.\n",
    "\n",
    "Gruber AR, Lorenz R, Bernhart SH, Neuböck R, Hofacker IL.\n",
    "The Vienna RNA Websuite. Nucleic Acids Res. 2008 "
   ]
  },
  {
   "cell_type": "markdown",
   "metadata": {},
   "source": [
    "## Please install this dependencies:\n"
   ]
  },
  {
   "cell_type": "code",
   "execution_count": null,
   "metadata": {},
   "outputs": [],
   "source": [
    "\n",
    "#conda install seaborn\n",
    "#conda install pandas\n",
    "#conda install -c bioconda viennarna"
   ]
  },
  {
   "cell_type": "markdown",
   "metadata": {},
   "source": [
    "We will now call the dependencies and packages we will be using."
   ]
  },
  {
   "cell_type": "markdown",
   "metadata": {},
   "source": [
    "## Calculating the Folding Energy Potential of a Sequence"
   ]
  },
  {
   "cell_type": "code",
   "execution_count": 23,
   "metadata": {},
   "outputs": [],
   "source": [
    "import RNA\n",
    "from RNA import params_load\n",
    "# params_load is a function that comes with the ViennaRNA package. ViennaRNA was originaly created \n",
    "#for the exploration of RNA secondary structures and has RNA parameters as default, this is why \n",
    "#we need to load the DNA parameters of (Mathews,2004) to predict DNA secondary structures.\n",
    "params_load('dna_mathews2004.par') \n",
    "RNA.cvar.dangles = 0\n",
    "#If you want to consider dangling energies at both sides of any helix found in your sequence you \n",
    "#can set that parameter to '1'."
   ]
  },
  {
   "cell_type": "markdown",
   "metadata": {},
   "source": [
    "First let's call the sequence or the genome we want to analyze. The function readgenome opens up a.txt\n",
    "File that has the FASTA file format. So, to use this function you need to download your target genome\n",
    "and save it in a .txt file using the FASTA format."
   ]
  },
  {
   "cell_type": "code",
   "execution_count": null,
   "metadata": {},
   "outputs": [],
   "source": [
    "def readgenome(filename):\n",
    "    genome =''\n",
    "    with open(filename,'r')as f:\n",
    "        for line in f:\n",
    "            if not line[0] == '>':\n",
    "                genome += line.rstrip()\n",
    "    return genome\n",
    "\n",
    "genome = readgenome('Herpes1.txt')\n",
    "len(genome)"
   ]
  },
  {
   "cell_type": "markdown",
   "metadata": {},
   "source": [
    " Afterwards, we will use the first 100 nucleotides of the herpes 1 simplex viral genome to predict the Secondary DNA structure most likely to form.The results should be identical to those generated when\n",
    "you compute the minimum free energy(MFE) and dot bracket notation using the RNAfold Webserver with the same parameters we are using."
   ]
  },
  {
   "cell_type": "code",
   "execution_count": 25,
   "metadata": {},
   "outputs": [
    {
     "name": "stdout",
     "output_type": "stream",
     "text": [
      "AGCCCGGGCCCCCCGCGGGCGCGCGCGCGCGCAAAAAAGGCGGGCGGCGGTCCGGGCGGCGTGCGCGCGCGCGGCGGGCGTGGGGGGCGGGGCCGCGGGA\n",
      ".((((.(.((((((((.(.(((((((((((((......(.((..(((....)))..)).)))))))))))))).)..))).))))).).))))....... (-44.20)\n"
     ]
    }
   ],
   "source": [
    "seq= genome[:100]\n",
    "# creates a fold_compound data structure (required for all subsequently applied  algorithms)\n",
    "fc = RNA.fold_compound(seq)\n",
    "\n",
    "# compute MFE and MFE structure\n",
    "(mfe_struct, mfe) = fc.mfe()\n",
    "\n",
    "# rescale Boltzmann factors for partition function computation\n",
    "fc.exp_params_rescale(mfe)\n",
    "\n",
    "\n",
    "print(\"%s\\n%s (%6.2f)\" % (seq, mfe_struct, mfe))\n"
   ]
  },
  {
   "cell_type": "markdown",
   "metadata": {},
   "source": [
    "## Calculating the Folding Energy Potential of a Genome using a Sliding Window Analysis"
   ]
  },
  {
   "cell_type": "markdown",
   "metadata": {},
   "source": [
    "Now that we know how to calculate the minimum free energy of a DNA sequence, we can try analyzing\n",
    "the complete viral genome of the Herpes 1 simplex type 17. To achieve this, we will use a type of analysis\n",
    "that is called \"Sliding Window Analysis\". We use the Sliding Window Analysis to explore how the folding energy potential\n",
    " changes through the entire genome. The folding energy potential of a sequence suggests that DNA can also fold\n",
    "into compact three-dimensional structure. Note that Secondary DNA structures will tend to form within regions of the genome\n",
    "that harbor the most negative folding energy potential.\n",
    "In this case, we will use a sliding window of 500 nucleotides with a step size of 75."
   ]
  },
  {
   "cell_type": "code",
   "execution_count": 29,
   "metadata": {},
   "outputs": [],
   "source": [
    "fin=0\n",
    "def sliding_window_analysis(genome,function, window_size=500, step_size=75):\n",
    "    \"\"\"Return an iterator that yields (start, end, property) tuples.\n",
    "    Where start and end are the indices used to slice the input list\n",
    "    and property is the return value of the function given the sliced\n",
    "    list.\n",
    "    \"\"\"\n",
    "    for start in range(0, len(genome), step_size):\n",
    "        end = start + window_size\n",
    "        if end > len(genome):\n",
    "            break\n",
    "        yield start, end, function(genome[start:end])\n",
    "\n",
    "    for start in range(0, len(genome), window_size):\n",
    "        end = start + window_size\n",
    "        if end > len(genome):\n",
    "            break\n",
    "        yield start, end, function(genome[start:end])\n",
    "        \n",
    "        \n",
    "def fold_energy(genome):\n",
    "    'Return the  folding energy of the compund sliced sequence'\n",
    "    import RNA\n",
    "    from RNA import params_load\n",
    "    params_load('dna_mathews2004.par') \n",
    "    RNA.cvar.dangles = 0\n",
    "    \n",
    "    fc = RNA.fold_compound(genome)\n",
    "    (mfe_struct, mfe) = fc.mfe()\n",
    "    fc.exp_params_rescale(mfe)\n",
    "    (pp, pf) = fc.pf()\n",
    "    comp_fe=pf\n",
    "    fin=pf\n",
    "    return fin\n",
    "    "
   ]
  },
  {
   "cell_type": "code",
   "execution_count": null,
   "metadata": {},
   "outputs": [],
   "source": [
    "for start, end, fin in sliding_window_analysis(genome,fold_energy):\n",
    "    print(start,end,fin)"
   ]
  },
  {
   "cell_type": "markdown",
   "metadata": {},
   "source": [
    "Then, we will save our results for further analysis."
   ]
  },
  {
   "cell_type": "code",
   "execution_count": null,
   "metadata": {},
   "outputs": [],
   "source": [
    "def save_csv(file):\n",
    "    file ='local_foldE_500.csv'\n",
    "    with open(file,'w')as file_handle:\n",
    "        header = \"start,middle,end,folding_energy_potential\\n\"\n",
    "        file_handle.write(header)\n",
    "        for start, end, fin in sliding_window_analysis(genome,fold_energy):\n",
    "            middle = (start + end ) / 2\n",
    "            row = \"{},{},{},{}\\n\".format(start, middle, end, fin)\n",
    "            file_handle.write(row) \n",
    "    return(file)   \n",
    "files=''\n",
    "save_csv(files)"
   ]
  },
  {
   "cell_type": "markdown",
   "metadata": {},
   "source": [
    "## Calculating the number of deletions found at each Window "
   ]
  },
  {
   "cell_type": "markdown",
   "metadata": {},
   "source": [
    " Now comes the fun part!.\n",
    " \n",
    "\n",
    "To continue with the second part of our example, we will use again a sliding window analysis to count how many deletions are found within each previously calculated window. Later,we will save those results within a .CSV file and at the end we will plot the number of deletions found at each window against the folding energy potential of the same window.\n",
    " \n",
    " The number of deletions is calculated from  a Dummy list with 1000 random deletions that have a random frequency pattern. In real life, you should use your own list with your own annotatiions, and remember to take into consideration that any deletion has a starting position(5') within your chosen genome and an ending position(3'). This is why if you want to try to analyze your genome you should create two  separate lists containing either the starting position or the ending position. Consequently, you will end up with two .CSV files that will have each sliding window analysis to count the number of deletions at each window. Each list will have a different distribution pattern, because even if the amount of deletions won't change, the location of the (5') or the (3') position of the deletion wil be different.\n",
    " \n",
    "\n",
    "Damas, Joana, et al. \"Mitochondrial DNA deletions are associated with non-B DNA conformations.\" Nucleic acids research 40.16 (2012): 7606-7621.\n"
   ]
  },
  {
   "cell_type": "code",
   "execution_count": null,
   "metadata": {},
   "outputs": [],
   "source": [
    "\n",
    "import pandas\n",
    "df1 = pandas.read_csv('Dummy_deletions.csv')\n",
    "\n",
    "Deletion_list = df1.Deletion.tolist()\n",
    "Number_of_Deletions_list = df1.Number_of_Deletions.tolist()\n",
    "\n",
    "zipped_list = list(zip(Deletion_list,Number_of_Deletions_list))\n",
    "def sliding_window_analysis2(genome, window_size=500, step_size=75):\n",
    "    \"\"\"Return an iterator that yields (start, end, property) tuples.\n",
    "    Where start and end are the indices used to slice the input list\n",
    "    and property is the return value of the function given the sliced\n",
    "    list.\n",
    "    \"\"\"\n",
    "    for start in range(0, len(genome), step_size):\n",
    "        end = start + window_size\n",
    "        if end > len(genome):\n",
    "            break\n",
    "        yield start, end\n",
    "\n",
    "    for start in range(0, len(genome), window_size):\n",
    "        end = start + window_size\n",
    "        if end > len(genome):\n",
    "            break\n",
    "        yield start, end\n",
    "             \n",
    "#Creates an empty list\n",
    "windows_list = []\n",
    "for start,end in sliding_window_analysis(genome):\n",
    "    seq = genome[start:end]\n",
    "    windows_list.append((start,end))\n",
    "\n",
    "#Creates an empty list\n",
    "reads_sum = []\n",
    "for window in windows_list:\n",
    "    window_low = window[0]\n",
    "    window_high = window[1]\n",
    "#Sums the number of the deletions found at each window\n",
    "    \n",
    "    this_sum = 0\n",
    "    for item in zipped_list:\n",
    "        Deletions = item[0]\n",
    "        read = item[1]\n",
    "        if (Deletions >= window_low and Deletions <= window_high):\n",
    "            this_sum += read\n",
    "            \n",
    "    reads_sum.append((window_low, window_high, this_sum))\n",
    "\n",
    "for item in reads_sum:\n",
    "    a=item[0]\n",
    "    b=item[1]\n",
    "    c=item[2]\n",
    "    print(a,b,c)\n"
   ]
  },
  {
   "cell_type": "code",
   "execution_count": null,
   "metadata": {},
   "outputs": [],
   "source": [
    "def save_csv(file):\n",
    "    file ='Dummy_deletions_window.csv'\n",
    "    with open(file,'w')as file_handle:\n",
    "        header = \"start,middle,end,Deletions\\n\"\n",
    "        file_handle.write(header)\n",
    "        for a, b, c in reads_sum:\n",
    "            middle = (a + b ) / 2\n",
    "            row = \"{},{},{},{}\\n\".format(a, middle, b, c)\n",
    "            file_handle.write(row) \n",
    "    return(file) \n",
    "files=''\n",
    "save_csv(files)"
   ]
  },
  {
   "cell_type": "markdown",
   "metadata": {},
   "source": [
    "## Plotting the results of both analysis"
   ]
  },
  {
   "cell_type": "code",
   "execution_count": null,
   "metadata": {},
   "outputs": [],
   "source": [
    "import pandas as pd\n",
    "\n",
    "df=pd.read_csv('Dummy_deletions_window.csv')\n",
    "df3=pd.read_csv('local_foldE_500.csv')\n",
    "\n",
    "middle_list = df.middle.tolist()\n",
    "Deletions_list = df.Deletions.tolist()\n",
    "foldE_list= df3.folding_energy_potential.tolist()\n",
    "x=middle_list\n",
    "y=Deletions_list\n",
    "y1=foldE_list\n",
    "\n",
    "fig, ax1 = plt.subplots()\n",
    "\n",
    "ax2 = ax1.twinx()\n",
    "ax1.bar(x, y)\n",
    "ax2.plot(x, y1, '-', color=\"red\" )\n",
    "\n",
    "ax1.set_xlabel('Number of Deletions vs the Folding energy potential of the Herpes Simplex 1 type 17 genome')\n",
    "ax1.set_ylabel('Deletions', color='g')\n",
    "ax2.set_ylabel('Folding energy kcal/mol', color='b')"
   ]
  }
 ],
 "metadata": {
  "kernelspec": {
   "display_name": "Python 3",
   "language": "python",
   "name": "python3"
  },
  "language_info": {
   "codemirror_mode": {
    "name": "ipython",
    "version": 3
   },
   "file_extension": ".py",
   "mimetype": "text/x-python",
   "name": "python",
   "nbconvert_exporter": "python",
   "pygments_lexer": "ipython3",
   "version": "3.7.4"
  }
 },
 "nbformat": 4,
 "nbformat_minor": 2
}
