{
 "cells": [
  {
   "cell_type": "markdown",
   "metadata": {},
   "source": [
    "# Applying phylogenetics to find conserved DNA Secondary Structures"
   ]
  },
  {
   "cell_type": "markdown",
   "metadata": {},
   "source": [
    "In our previous example we found several genome locations within the human Herpes Simplex 1 strain 17 genome that contained Secondary DNA structures. Some DNA secondary structures where located near regulatory regions or within open reading frames. We predicted those structures using dot-bracket notation. However, we don't actually know if the predicted  structures  could actually be present in real DNA samples. A way to tackle this problem without investing thousands of dollars in wet-lab experiments is measuring the variability of the sequence of each predicted DNA Secondary structure employing a  special type of phylogenetic analysis. If there isn't much variation between strains of herpes simplex 1 then the secondary DNA structure is probably conserved and is functional for the life-cycle of the virus.\n",
    "\n",
    "We will compare the variability of each selected region performing a multiple-allignment using similar different strains of herpes simplex 1. The variability of the region will be quantified measuring how much information is lost through the variants of the herpes simplex 1 virus measuring the Shannon entropy of all sequences. \n",
    "\n",
    "Shannon entropy is a simple quantitative measure of uncertainty in a data set. One simple way to imagine it could be drawn from a sequence sample set that came from a large population, the Shannon entropy could be considered as a measure indicative of your ability to guess what nucelotides would be in the next sequence you took from the population, based on your previous sampling.\n",
    "\n",
    " When this the Shannon entropy measure is used as a strategy to quantify sequence variability in a column in a sequence alignment, it incorporates both the frequencies (for example, a column that was 50% A and 50% T has a higher Shannon entropy than a column that is 90% A and 10% T) and number of possibilities (a column that is 90% A, 5% T and 5% G has a higher Shannon entropy than 90% A and 10%T). An invariant column has a Shannon entropy of zero. The maximum Shannon entropy is dependent on the number of discrete variable in your set; for example, if you are considering DNA, you can have A, C, G, and T, and the maximum entropy would be if they were present at equal frequencies, 25% of each.\n",
    "\n",
    " Bibliography\n",
    "\n",
    "   1- Efron B and R Tibshirani. Statistical Data Analysis in the Computer Age. Science 253: 290-395 (1991).\n",
    "   \n",
    "   2-Fraham N, B Korber, C Adams, J Szinger, R Draenert, M Addo, M Feeney, K Yusim, K Sango, N Brown, D SenGupta, A Piechocka-Trocha, T Simonis, F Marincola, A Wurcel, D Stone, C J Russell, P Adolf, D Cohen, T Roach, A St John, A Khatri, K Davies, J Mullins, P Goulder, B Walker, and C Brander. Consistent CTL targeting of immunodominant regions in HIV across multiple ethnicities. J Virol. 78(5):2187-2000 (2004).\n",
    "   \n",
    "   \n",
    "   3-Gaschen B, J Taylor, K Yusim, F Gao, V Novitsky, B Haynes, B Foley, T Bhattacharya, and BT Korber. Diversity considerations in HIV-1 vaccine selection. Science 296(5577):2354-60 (2002)."
   ]
  },
  {
   "cell_type": "markdown",
   "metadata": {},
   "source": [
    "\n",
    "## Please install these python dependencies"
   ]
  },
  {
   "cell_type": "code",
   "execution_count": 1,
   "metadata": {},
   "outputs": [],
   "source": [
    "# You need to have the bioconda package! If you don't have it run this easy codes.\n",
    "#conda config --add channels defaults\n",
    "#conda config --add channels bioconda\n",
    "#conda config --add channels conda-forge"
   ]
  },
  {
   "cell_type": "markdown",
   "metadata": {},
   "source": [
    "## Re-calling our previously predicted DNA-Secondary structures"
   ]
  },
  {
   "cell_type": "markdown",
   "metadata": {},
   "source": [
    "Now, we will recall one of the  predicted DNA-Secondary Structures that had the most negative folding energy potential. This secondary DNA structure is located within the sequence of the mRNA-transcriptional regulator ICP4. So, it should be conserved through the herpes  1 viral strains because it is important for the viral life-cycle."
   ]
  },
  {
   "cell_type": "code",
   "execution_count": 3,
   "metadata": {},
   "outputs": [],
   "source": [
    "def readgenome(filename):\n",
    "    genome =''\n",
    "    with open(filename,'r')as f:\n",
    "        for line in f:\n",
    "            if not line[0] == '>':\n",
    "                genome += line.rstrip()\n",
    "    return genome\n",
    "\n",
    "genome = readgenome('Herpes1.txt')\n"
   ]
  },
  {
   "cell_type": "markdown",
   "metadata": {},
   "source": [
    "###  DNA-Secondary structure "
   ]
  },
  {
   "cell_type": "code",
   "execution_count": 6,
   "metadata": {},
   "outputs": [
    {
     "name": "stdout",
     "output_type": "stream",
     "text": [
      "AGTAGGCCTCCAGGGCGGCGGCCGCGGGCGCCGCCGTGTGGCTGGGCCCCGGGGGCTGCCGCCGCCAGCCGCCCAGGGGGTCGGGGCCCTCGGCGGGCCGGCGCGACAGCGCCACGGGGCGCGGGCGGGCCTGCGCCGCGGCGGCCCGGGGCGCCGCGGGCTGGGCGGGGGCGGGCTCGGGCCCCGGGGGCGTGGAGGGGGGCGCGGGCGCGGGGAGGGGGGCGCGGGCGTCCGAGCCGGGGGCGTCCGCGCCGCTCTTCTTCGTCTTCGGGGGTCGCGGGCCGCCGCCTCCGGGCGGCCGGGCCGGGCCGGGACTCTTGCGCTTGCGCCCCTCCCGCGGCGCGGCGGAGGCGGCGGCGGCCGCCAGCGCGTCGGCGGCGTCCGGTGCGCTGGCCGCCGCCGCCAGCAGGGGGCGCAGGCTCTGGTTGTCAAACAGCAGGTCCGCGGCGGCGGCGGCCGCGGAGCTCGGCAGGCGCGGGTCCCGCGGCAGCGCGGGGCCC\n",
      ".....((((....(.((((..((((((.(((((((((.......(.((((((((.(((...(((((..((((((((...(.(((.((((....(((((((.((((...((((....((((.(....).)))))))))))).))))))))))).))))...)))))))).)))))...))).)))))))).)..(((..(((((((((((((((((((((.(((((((((((((.......))))))))))))).)))))))..(((..(((....(.(((.((((((((....))))).))).))).)))).)))...)))))))))))))))))(((((.(((.(....(((((((((((.(((((((((((((......))))))))))))).))))))))).))....).))).(.(((((.((...)).))).)).))))))))))))))).)))))).)).)).)))))..((((((((((....)))))))))) (-196.30)\n"
     ]
    }
   ],
   "source": [
    "import RNA\n",
    "from RNA import params_load\n",
    "params_load('dna_mathews2004.par') \n",
    "RNA.cvar.dangles = 0\n",
    "seq= genome[128625:129125]\n",
    "# creates a fold_compound data structure (required for all subsequently applied  algorithms)\n",
    "fc = RNA.fold_compound(seq)\n",
    "\n",
    "# compute MFE and MFE structure\n",
    "(mfe_struct, mfe) = fc.mfe()\n",
    "\n",
    "# rescale Boltzmann factors for partition function computation\n",
    "fc.exp_params_rescale(mfe)\n",
    "\n",
    "\n",
    "print(\"%s\\n%s (%6.2f)\" % (seq, mfe_struct, mfe))\n"
   ]
  },
  {
   "cell_type": "markdown",
   "metadata": {},
   "source": [
    "## Multiple Sequence Allignment"
   ]
  },
  {
   "cell_type": "markdown",
   "metadata": {},
   "source": [
    "Now we will use the multiple sequence allignment that is located in this repository to calculate the shannon entropy of that DNA secondary structure. The name of the 3 Herpes 1 strains we will be using  for this example  to quantify the shannon entropy are located in that file too as its 'accencion number'.\n",
    "\n",
    "The name of the file is 'msa.fasta'. \n",
    "\n",
    "In your analysis you can put as many sequences as you like, just be sure to use the fasta format for the multiple sequence allignment.\n"
   ]
  },
  {
   "cell_type": "markdown",
   "metadata": {},
   "source": [
    "## Shannon Entropy of the Multiple Sequence Allignment"
   ]
  },
  {
   "cell_type": "markdown",
   "metadata": {},
   "source": [
    "Now we will open up a terminal and we will write this lines of code:\n",
    "<br>\n",
    "<br>\n",
    "cd \n",
    "<br>\n",
    "cd Exploring-DNA-secondary-structures-with-Python\n",
    "<br>\n",
    "python shannon.py -a msa.fasta --makeplot\n",
    "\n"
   ]
  },
  {
   "cell_type": "markdown",
   "metadata": {},
   "source": [
    "## The resulting graph should look like this:"
   ]
  },
  {
   "cell_type": "markdown",
   "metadata": {},
   "source": [
    "<img src=\"shannon_graph.png\">"
   ]
  },
  {
   "cell_type": "markdown",
   "metadata": {},
   "source": [
    "This represents how conserved the secondary structure is within that genome position. The code is based in the work of \"Joe R. J. Healey\", with minor modifications."
   ]
  },
  {
   "cell_type": "markdown",
   "metadata": {},
   "source": [
    "Finally, you are ready to explore your own DNA secondary structures =)"
   ]
  },
  {
   "cell_type": "code",
   "execution_count": null,
   "metadata": {},
   "outputs": [],
   "source": []
  }
 ],
 "metadata": {
  "kernelspec": {
   "display_name": "Python 3",
   "language": "python",
   "name": "python3"
  },
  "language_info": {
   "codemirror_mode": {
    "name": "ipython",
    "version": 3
   },
   "file_extension": ".py",
   "mimetype": "text/x-python",
   "name": "python",
   "nbconvert_exporter": "python",
   "pygments_lexer": "ipython3",
   "version": "3.7.4"
  }
 },
 "nbformat": 4,
 "nbformat_minor": 2
}
